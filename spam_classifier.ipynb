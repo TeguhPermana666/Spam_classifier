{
 "cells": [
  {
   "cell_type": "code",
   "execution_count": 1,
   "metadata": {},
   "outputs": [
    {
     "name": "stdout",
     "output_type": "stream",
     "text": [
      "mother fucker\n"
     ]
    }
   ],
   "source": [
    "print(\"mother fucker\")\n",
    "print(\"hello word\")"
   ]
  }
 ],
 "metadata": {
  "interpreter": {
   "hash": "7a5456659e538ee3cddfcad4c66e6fbc387a1d4099812e9081b37ac40f8a3f09"
  },
  "kernelspec": {
   "display_name": "Python 3.10.1 64-bit ('env': venv)",
   "language": "python",
   "name": "python3"
  },
  "language_info": {
   "codemirror_mode": {
    "name": "ipython",
    "version": 3
   },
   "file_extension": ".py",
   "mimetype": "text/x-python",
   "name": "python",
   "nbconvert_exporter": "python",
   "pygments_lexer": "ipython3",
   "version": "3.9.9"
  },
  "orig_nbformat": 4
 },
 "nbformat": 4,
 "nbformat_minor": 2
}
